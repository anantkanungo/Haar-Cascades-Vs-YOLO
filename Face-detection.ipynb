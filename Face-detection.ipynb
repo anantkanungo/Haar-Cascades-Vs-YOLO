{
 "cells": [
  {
   "cell_type": "code",
   "execution_count": 9,
   "id": "4c3d0b12",
   "metadata": {},
   "outputs": [
    {
     "name": "stderr",
     "output_type": "stream",
     "text": [
      "<>:42: SyntaxWarning: \"is\" with a literal. Did you mean \"==\"?\n",
      "<>:42: SyntaxWarning: \"is\" with a literal. Did you mean \"==\"?\n",
      "C:\\Users\\anant\\AppData\\Local\\Temp\\ipykernel_14348\\1943391.py:42: SyntaxWarning: \"is\" with a literal. Did you mean \"==\"?\n",
      "  if faces is ():\n"
     ]
    }
   ],
   "source": [
    "import cv2\n",
    "import numpy as np\n",
    "\n",
    "face_classifier = cv2.CascadeClassifier('haarcascade_frontalface_default.xml')\n",
    "\n",
    "\n",
    "def draw_boundary(img, classifier, scaleFactor, minNeighbors, color, text):\n",
    "  \n",
    "    gray_img = cv2.cvtColor(img, cv2.COLOR_BGR2GRAY)\n",
    "  \n",
    "    features = classifier.detectMultiScale(gray_img, scaleFactor, minNeighbors)\n",
    "    coords = []\n",
    "    for (x, y, w, h) in features:\n",
    "        cv2.rectangle(img, (x,y), (x+w, y+h), color, 2)\n",
    "        cv2.putText(img, text, (x, y-4), cv2.FONT_HERSHEY_SIMPLEX, 0.8, color, 1, cv2.LINE_AA)\n",
    "        coords = [x, y, w, h]\n",
    "    return coords\n",
    "\n",
    "def detect(img, faceCascade):\n",
    "    color = {\"blue\":(255,0,0), \"red\":(0,0,255), \"green\":(0,255,0), \"white\":(255,255,255)}\n",
    "    coords = draw_boundary(img, faceCascade, 1.1, 10, color['blue'], \"Face\")\n",
    "    if len(coords)==4:\n",
    "           roi_img = img[coords[1]:coords[1]+coords[3], coords[0]:coords[0]+coords[2]]\n",
    "    return img\n",
    "\n",
    "# video = cv2.VideoCapture(0)\n",
    "\n",
    "# while True:\n",
    "#     _, img = video.read()\n",
    "#     img = detect(img,face_classifier)\n",
    "#     cv2.imshow(\"Face-Detection\",img)\n",
    "#     if cv2.waitKey(1) & 0xFF == ord('q'):\n",
    "#          break\n",
    "\n",
    "# video.release()\n",
    " \n",
    "img = cv2.imread('BeFunky-collage.jpg')\n",
    "gray = cv2.cvtColor(img, cv2.COLOR_BGR2GRAY)\n",
    "\n",
    "faces = face_classifier.detectMultiScale(img , 1.3, 5)\n",
    "\n",
    "if faces is ():\n",
    "    print(\"No faces found\")\n",
    "    \n",
    "for(x,y,w,h) in faces:\n",
    "    cv2.rectangle(img, (x,y),(x+w,y+h),(127,0,255),20)\n",
    "#     cv2.imshow('Face Detection',img)\n",
    "    cv2.imwrite('Haar.jpg',img)\n",
    "#     cv2.waitKey(1000)\n",
    "    \n",
    "cv2.destroyAllWindows()"
   ]
  },
  {
   "cell_type": "code",
   "execution_count": null,
   "id": "ec9d88a1",
   "metadata": {},
   "outputs": [],
   "source": []
  }
 ],
 "metadata": {
  "kernelspec": {
   "display_name": "Python 3 (ipykernel)",
   "language": "python",
   "name": "python3"
  },
  "language_info": {
   "codemirror_mode": {
    "name": "ipython",
    "version": 3
   },
   "file_extension": ".py",
   "mimetype": "text/x-python",
   "name": "python",
   "nbconvert_exporter": "python",
   "pygments_lexer": "ipython3",
   "version": "3.9.13"
  }
 },
 "nbformat": 4,
 "nbformat_minor": 5
}
